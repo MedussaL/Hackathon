{
 "cells": [
  {
   "cell_type": "code",
   "execution_count": 4,
   "metadata": {},
   "outputs": [],
   "source": [
    "import pandas as pd\n",
    "import matplotlib.pyplot as plt\n",
    "import pickle"
   ]
  },
  {
   "cell_type": "code",
   "execution_count": 5,
   "metadata": {},
   "outputs": [
    {
     "data": {
      "text/html": [
       "<div>\n",
       "<style scoped>\n",
       "    .dataframe tbody tr th:only-of-type {\n",
       "        vertical-align: middle;\n",
       "    }\n",
       "\n",
       "    .dataframe tbody tr th {\n",
       "        vertical-align: top;\n",
       "    }\n",
       "\n",
       "    .dataframe thead th {\n",
       "        text-align: right;\n",
       "    }\n",
       "</style>\n",
       "<table border=\"1\" class=\"dataframe\">\n",
       "  <thead>\n",
       "    <tr style=\"text-align: right;\">\n",
       "      <th></th>\n",
       "      <th>consommation_kWh</th>\n",
       "      <th>mois</th>\n",
       "      <th>annee</th>\n",
       "      <th>CO2_kg</th>\n",
       "      <th>prix_EUR</th>\n",
       "    </tr>\n",
       "  </thead>\n",
       "  <tbody>\n",
       "    <tr>\n",
       "      <th>0</th>\n",
       "      <td>9847</td>\n",
       "      <td>1</td>\n",
       "      <td>2010</td>\n",
       "      <td>1572.184358</td>\n",
       "      <td>984.7</td>\n",
       "    </tr>\n",
       "    <tr>\n",
       "      <th>1</th>\n",
       "      <td>10063</td>\n",
       "      <td>2</td>\n",
       "      <td>2010</td>\n",
       "      <td>1480.399633</td>\n",
       "      <td>1006.3</td>\n",
       "    </tr>\n",
       "    <tr>\n",
       "      <th>2</th>\n",
       "      <td>9904</td>\n",
       "      <td>3</td>\n",
       "      <td>2010</td>\n",
       "      <td>1394.176853</td>\n",
       "      <td>990.4</td>\n",
       "    </tr>\n",
       "    <tr>\n",
       "      <th>3</th>\n",
       "      <td>9930</td>\n",
       "      <td>4</td>\n",
       "      <td>2010</td>\n",
       "      <td>1500.440278</td>\n",
       "      <td>993.0</td>\n",
       "    </tr>\n",
       "    <tr>\n",
       "      <th>4</th>\n",
       "      <td>10094</td>\n",
       "      <td>5</td>\n",
       "      <td>2010</td>\n",
       "      <td>1620.859860</td>\n",
       "      <td>1009.4</td>\n",
       "    </tr>\n",
       "  </tbody>\n",
       "</table>\n",
       "</div>"
      ],
      "text/plain": [
       "   consommation_kWh  mois  annee       CO2_kg  prix_EUR\n",
       "0              9847     1   2010  1572.184358     984.7\n",
       "1             10063     2   2010  1480.399633    1006.3\n",
       "2              9904     3   2010  1394.176853     990.4\n",
       "3              9930     4   2010  1500.440278     993.0\n",
       "4             10094     5   2010  1620.859860    1009.4"
      ]
     },
     "execution_count": 5,
     "metadata": {},
     "output_type": "execute_result"
    }
   ],
   "source": [
    "#Loading dataframe from the last Notebook\n",
    "df = pd.read_csv('dataSets.csv', index_col=0)\n",
    "cons_annee = pd.read_csv('moy_annee.csv')\n",
    "df.head()"
   ]
  },
  {
   "cell_type": "code",
   "execution_count": 6,
   "metadata": {},
   "outputs": [
    {
     "data": {
      "text/plain": [
       "(168, 5)"
      ]
     },
     "execution_count": 6,
     "metadata": {},
     "output_type": "execute_result"
    }
   ],
   "source": [
    "df.shape"
   ]
  },
  {
   "cell_type": "code",
   "execution_count": 7,
   "metadata": {},
   "outputs": [
    {
     "data": {
      "text/html": [
       "<div>\n",
       "<style scoped>\n",
       "    .dataframe tbody tr th:only-of-type {\n",
       "        vertical-align: middle;\n",
       "    }\n",
       "\n",
       "    .dataframe tbody tr th {\n",
       "        vertical-align: top;\n",
       "    }\n",
       "\n",
       "    .dataframe thead th {\n",
       "        text-align: right;\n",
       "    }\n",
       "</style>\n",
       "<table border=\"1\" class=\"dataframe\">\n",
       "  <thead>\n",
       "    <tr style=\"text-align: right;\">\n",
       "      <th></th>\n",
       "      <th>consommation_kWh</th>\n",
       "      <th>mois</th>\n",
       "      <th>annee</th>\n",
       "      <th>CO2_kg</th>\n",
       "      <th>prix_EUR</th>\n",
       "    </tr>\n",
       "  </thead>\n",
       "  <tbody>\n",
       "    <tr>\n",
       "      <th>count</th>\n",
       "      <td>168.000000</td>\n",
       "      <td>168.000000</td>\n",
       "      <td>168.00000</td>\n",
       "      <td>168.000000</td>\n",
       "      <td>168.000000</td>\n",
       "    </tr>\n",
       "    <tr>\n",
       "      <th>mean</th>\n",
       "      <td>12499.059524</td>\n",
       "      <td>6.500000</td>\n",
       "      <td>2016.50000</td>\n",
       "      <td>2096.042950</td>\n",
       "      <td>2254.536103</td>\n",
       "    </tr>\n",
       "    <tr>\n",
       "      <th>std</th>\n",
       "      <td>1458.665745</td>\n",
       "      <td>3.462373</td>\n",
       "      <td>4.04318</td>\n",
       "      <td>366.467727</td>\n",
       "      <td>840.044989</td>\n",
       "    </tr>\n",
       "    <tr>\n",
       "      <th>min</th>\n",
       "      <td>9847.000000</td>\n",
       "      <td>1.000000</td>\n",
       "      <td>2010.00000</td>\n",
       "      <td>1394.176853</td>\n",
       "      <td>984.700000</td>\n",
       "    </tr>\n",
       "    <tr>\n",
       "      <th>25%</th>\n",
       "      <td>11238.750000</td>\n",
       "      <td>3.750000</td>\n",
       "      <td>2013.00000</td>\n",
       "      <td>1788.875259</td>\n",
       "      <td>1510.384615</td>\n",
       "    </tr>\n",
       "    <tr>\n",
       "      <th>50%</th>\n",
       "      <td>12490.500000</td>\n",
       "      <td>6.500000</td>\n",
       "      <td>2016.50000</td>\n",
       "      <td>2070.309585</td>\n",
       "      <td>2187.384615</td>\n",
       "    </tr>\n",
       "    <tr>\n",
       "      <th>75%</th>\n",
       "      <td>13704.250000</td>\n",
       "      <td>9.250000</td>\n",
       "      <td>2020.00000</td>\n",
       "      <td>2399.491269</td>\n",
       "      <td>2951.684615</td>\n",
       "    </tr>\n",
       "    <tr>\n",
       "      <th>max</th>\n",
       "      <td>15084.000000</td>\n",
       "      <td>12.000000</td>\n",
       "      <td>2023.00000</td>\n",
       "      <td>2780.586966</td>\n",
       "      <td>3771.000000</td>\n",
       "    </tr>\n",
       "  </tbody>\n",
       "</table>\n",
       "</div>"
      ],
      "text/plain": [
       "       consommation_kWh        mois       annee       CO2_kg     prix_EUR\n",
       "count        168.000000  168.000000   168.00000   168.000000   168.000000\n",
       "mean       12499.059524    6.500000  2016.50000  2096.042950  2254.536103\n",
       "std         1458.665745    3.462373     4.04318   366.467727   840.044989\n",
       "min         9847.000000    1.000000  2010.00000  1394.176853   984.700000\n",
       "25%        11238.750000    3.750000  2013.00000  1788.875259  1510.384615\n",
       "50%        12490.500000    6.500000  2016.50000  2070.309585  2187.384615\n",
       "75%        13704.250000    9.250000  2020.00000  2399.491269  2951.684615\n",
       "max        15084.000000   12.000000  2023.00000  2780.586966  3771.000000"
      ]
     },
     "execution_count": 7,
     "metadata": {},
     "output_type": "execute_result"
    }
   ],
   "source": [
    "df.describe()"
   ]
  },
  {
   "cell_type": "code",
   "execution_count": 8,
   "metadata": {},
   "outputs": [
    {
     "data": {
      "text/plain": [
       "Index(['consommation_kWh', 'mois', 'annee', 'CO2_kg', 'prix_EUR'], dtype='object')"
      ]
     },
     "execution_count": 8,
     "metadata": {},
     "output_type": "execute_result"
    }
   ],
   "source": [
    "df.columns"
   ]
  },
  {
   "cell_type": "markdown",
   "metadata": {},
   "source": [
    "### Modèles de prédiction et tests de performance"
   ]
  },
  {
   "cell_type": "code",
   "execution_count": 9,
   "metadata": {},
   "outputs": [
    {
     "data": {
      "text/html": [
       "<div>\n",
       "<style scoped>\n",
       "    .dataframe tbody tr th:only-of-type {\n",
       "        vertical-align: middle;\n",
       "    }\n",
       "\n",
       "    .dataframe tbody tr th {\n",
       "        vertical-align: top;\n",
       "    }\n",
       "\n",
       "    .dataframe thead th {\n",
       "        text-align: right;\n",
       "    }\n",
       "</style>\n",
       "<table border=\"1\" class=\"dataframe\">\n",
       "  <thead>\n",
       "    <tr style=\"text-align: right;\">\n",
       "      <th></th>\n",
       "      <th>consommation_kWh</th>\n",
       "      <th>mois</th>\n",
       "      <th>annee</th>\n",
       "      <th>CO2_kg</th>\n",
       "      <th>prix_EUR</th>\n",
       "    </tr>\n",
       "    <tr>\n",
       "      <th>date</th>\n",
       "      <th></th>\n",
       "      <th></th>\n",
       "      <th></th>\n",
       "      <th></th>\n",
       "      <th></th>\n",
       "    </tr>\n",
       "  </thead>\n",
       "  <tbody>\n",
       "    <tr>\n",
       "      <th>2010-01</th>\n",
       "      <td>9847</td>\n",
       "      <td>1</td>\n",
       "      <td>2010</td>\n",
       "      <td>1572.184358</td>\n",
       "      <td>984.7</td>\n",
       "    </tr>\n",
       "    <tr>\n",
       "      <th>2010-02</th>\n",
       "      <td>10063</td>\n",
       "      <td>2</td>\n",
       "      <td>2010</td>\n",
       "      <td>1480.399633</td>\n",
       "      <td>1006.3</td>\n",
       "    </tr>\n",
       "    <tr>\n",
       "      <th>2010-03</th>\n",
       "      <td>9904</td>\n",
       "      <td>3</td>\n",
       "      <td>2010</td>\n",
       "      <td>1394.176853</td>\n",
       "      <td>990.4</td>\n",
       "    </tr>\n",
       "    <tr>\n",
       "      <th>2010-04</th>\n",
       "      <td>9930</td>\n",
       "      <td>4</td>\n",
       "      <td>2010</td>\n",
       "      <td>1500.440278</td>\n",
       "      <td>993.0</td>\n",
       "    </tr>\n",
       "    <tr>\n",
       "      <th>2010-05</th>\n",
       "      <td>10094</td>\n",
       "      <td>5</td>\n",
       "      <td>2010</td>\n",
       "      <td>1620.859860</td>\n",
       "      <td>1009.4</td>\n",
       "    </tr>\n",
       "  </tbody>\n",
       "</table>\n",
       "</div>"
      ],
      "text/plain": [
       "         consommation_kWh  mois  annee       CO2_kg  prix_EUR\n",
       "date                                                         \n",
       "2010-01              9847     1   2010  1572.184358     984.7\n",
       "2010-02             10063     2   2010  1480.399633    1006.3\n",
       "2010-03              9904     3   2010  1394.176853     990.4\n",
       "2010-04              9930     4   2010  1500.440278     993.0\n",
       "2010-05             10094     5   2010  1620.859860    1009.4"
      ]
     },
     "execution_count": 9,
     "metadata": {},
     "output_type": "execute_result"
    }
   ],
   "source": [
    "copie = df.copy()\n",
    "copie['date'] = copie['annee'].astype(str) + '-' + copie['mois'].astype(str).str.zfill(2)\n",
    "copie['date'] = pd.to_datetime(copie['date'])\n",
    "copie.set_index('date', inplace=True)\n",
    "copie.index = copie.index.strftime('%Y-%m')\n",
    "copie.head()"
   ]
  },
  {
   "cell_type": "code",
   "execution_count": 10,
   "metadata": {},
   "outputs": [
    {
     "data": {
      "text/html": [
       "<div>\n",
       "<style scoped>\n",
       "    .dataframe tbody tr th:only-of-type {\n",
       "        vertical-align: middle;\n",
       "    }\n",
       "\n",
       "    .dataframe tbody tr th {\n",
       "        vertical-align: top;\n",
       "    }\n",
       "\n",
       "    .dataframe thead th {\n",
       "        text-align: right;\n",
       "    }\n",
       "</style>\n",
       "<table border=\"1\" class=\"dataframe\">\n",
       "  <thead>\n",
       "    <tr style=\"text-align: right;\">\n",
       "      <th></th>\n",
       "      <th>consommation_kWh</th>\n",
       "      <th>CO2_kg</th>\n",
       "      <th>prix_EUR</th>\n",
       "    </tr>\n",
       "    <tr>\n",
       "      <th>date</th>\n",
       "      <th></th>\n",
       "      <th></th>\n",
       "      <th></th>\n",
       "    </tr>\n",
       "  </thead>\n",
       "  <tbody>\n",
       "    <tr>\n",
       "      <th>2010-01</th>\n",
       "      <td>9847</td>\n",
       "      <td>1572.184358</td>\n",
       "      <td>984.7</td>\n",
       "    </tr>\n",
       "    <tr>\n",
       "      <th>2010-02</th>\n",
       "      <td>10063</td>\n",
       "      <td>1480.399633</td>\n",
       "      <td>1006.3</td>\n",
       "    </tr>\n",
       "    <tr>\n",
       "      <th>2010-03</th>\n",
       "      <td>9904</td>\n",
       "      <td>1394.176853</td>\n",
       "      <td>990.4</td>\n",
       "    </tr>\n",
       "    <tr>\n",
       "      <th>2010-04</th>\n",
       "      <td>9930</td>\n",
       "      <td>1500.440278</td>\n",
       "      <td>993.0</td>\n",
       "    </tr>\n",
       "    <tr>\n",
       "      <th>2010-05</th>\n",
       "      <td>10094</td>\n",
       "      <td>1620.859860</td>\n",
       "      <td>1009.4</td>\n",
       "    </tr>\n",
       "  </tbody>\n",
       "</table>\n",
       "</div>"
      ],
      "text/plain": [
       "         consommation_kWh       CO2_kg  prix_EUR\n",
       "date                                            \n",
       "2010-01              9847  1572.184358     984.7\n",
       "2010-02             10063  1480.399633    1006.3\n",
       "2010-03              9904  1394.176853     990.4\n",
       "2010-04              9930  1500.440278     993.0\n",
       "2010-05             10094  1620.859860    1009.4"
      ]
     },
     "execution_count": 10,
     "metadata": {},
     "output_type": "execute_result"
    }
   ],
   "source": [
    "copie.drop(['mois', 'annee'], inplace=True, axis=1)\n",
    "copie.head()"
   ]
  },
  {
   "cell_type": "code",
   "execution_count": 11,
   "metadata": {},
   "outputs": [
    {
     "data": {
      "text/plain": [
       "consommation_kWh      int64\n",
       "CO2_kg              float64\n",
       "prix_EUR            float64\n",
       "dtype: object"
      ]
     },
     "execution_count": 11,
     "metadata": {},
     "output_type": "execute_result"
    }
   ],
   "source": [
    "copie.dtypes"
   ]
  },
  {
   "cell_type": "code",
   "execution_count": 12,
   "metadata": {},
   "outputs": [
    {
     "data": {
      "text/plain": [
       "Index(['2010-01', '2010-02', '2010-03', '2010-04', '2010-05', '2010-06',\n",
       "       '2010-07', '2010-08', '2010-09', '2010-10',\n",
       "       ...\n",
       "       '2023-03', '2023-04', '2023-05', '2023-06', '2023-07', '2023-08',\n",
       "       '2023-09', '2023-10', '2023-11', '2023-12'],\n",
       "      dtype='object', name='date', length=168)"
      ]
     },
     "execution_count": 12,
     "metadata": {},
     "output_type": "execute_result"
    }
   ],
   "source": [
    "copie.index"
   ]
  },
  {
   "cell_type": "code",
   "execution_count": 13,
   "metadata": {},
   "outputs": [
    {
     "data": {
      "image/png": "[encoded data removed]",
      "text/plain": [
       "<Figure size 1000x400 with 1 Axes>"
      ]
     },
     "metadata": {},
     "output_type": "display_data"
    }
   ],
   "source": [
    "plt.figure(figsize=(10,4))\n",
    "copie['2020-01':'2020-12']['consommation_kWh'].plot()\n",
    "plt.show()"
   ]
  },
  {
   "cell_type": "code",
   "execution_count": 14,
   "metadata": {},
   "outputs": [
    {
     "data": {
      "text/html": [
       "<div>\n",
       "<style scoped>\n",
       "    .dataframe tbody tr th:only-of-type {\n",
       "        vertical-align: middle;\n",
       "    }\n",
       "\n",
       "    .dataframe tbody tr th {\n",
       "        vertical-align: top;\n",
       "    }\n",
       "\n",
       "    .dataframe thead th {\n",
       "        text-align: right;\n",
       "    }\n",
       "</style>\n",
       "<table border=\"1\" class=\"dataframe\">\n",
       "  <thead>\n",
       "    <tr style=\"text-align: right;\">\n",
       "      <th></th>\n",
       "      <th>consommation_kWh</th>\n",
       "      <th>CO2_kg</th>\n",
       "      <th>prix_EUR</th>\n",
       "      <th>valeurCible</th>\n",
       "    </tr>\n",
       "    <tr>\n",
       "      <th>date</th>\n",
       "      <th></th>\n",
       "      <th></th>\n",
       "      <th></th>\n",
       "      <th></th>\n",
       "    </tr>\n",
       "  </thead>\n",
       "  <tbody>\n",
       "    <tr>\n",
       "      <th>2010-01</th>\n",
       "      <td>9847</td>\n",
       "      <td>1572.184358</td>\n",
       "      <td>984.70</td>\n",
       "      <td>10063.0</td>\n",
       "    </tr>\n",
       "    <tr>\n",
       "      <th>2010-02</th>\n",
       "      <td>10063</td>\n",
       "      <td>1480.399633</td>\n",
       "      <td>1006.30</td>\n",
       "      <td>9904.0</td>\n",
       "    </tr>\n",
       "    <tr>\n",
       "      <th>2010-03</th>\n",
       "      <td>9904</td>\n",
       "      <td>1394.176853</td>\n",
       "      <td>990.40</td>\n",
       "      <td>9930.0</td>\n",
       "    </tr>\n",
       "    <tr>\n",
       "      <th>2010-04</th>\n",
       "      <td>9930</td>\n",
       "      <td>1500.440278</td>\n",
       "      <td>993.00</td>\n",
       "      <td>10094.0</td>\n",
       "    </tr>\n",
       "    <tr>\n",
       "      <th>2010-05</th>\n",
       "      <td>10094</td>\n",
       "      <td>1620.859860</td>\n",
       "      <td>1009.40</td>\n",
       "      <td>10308.0</td>\n",
       "    </tr>\n",
       "    <tr>\n",
       "      <th>...</th>\n",
       "      <td>...</td>\n",
       "      <td>...</td>\n",
       "      <td>...</td>\n",
       "      <td>...</td>\n",
       "    </tr>\n",
       "    <tr>\n",
       "      <th>2023-08</th>\n",
       "      <td>14885</td>\n",
       "      <td>2764.484602</td>\n",
       "      <td>3721.25</td>\n",
       "      <td>14996.0</td>\n",
       "    </tr>\n",
       "    <tr>\n",
       "      <th>2023-09</th>\n",
       "      <td>14996</td>\n",
       "      <td>2636.440347</td>\n",
       "      <td>3749.00</td>\n",
       "      <td>14909.0</td>\n",
       "    </tr>\n",
       "    <tr>\n",
       "      <th>2023-10</th>\n",
       "      <td>14909</td>\n",
       "      <td>2717.749686</td>\n",
       "      <td>3727.25</td>\n",
       "      <td>15084.0</td>\n",
       "    </tr>\n",
       "    <tr>\n",
       "      <th>2023-11</th>\n",
       "      <td>15084</td>\n",
       "      <td>2707.667045</td>\n",
       "      <td>3771.00</td>\n",
       "      <td>14884.0</td>\n",
       "    </tr>\n",
       "    <tr>\n",
       "      <th>2023-12</th>\n",
       "      <td>14884</td>\n",
       "      <td>2780.586966</td>\n",
       "      <td>3721.00</td>\n",
       "      <td>14884.0</td>\n",
       "    </tr>\n",
       "  </tbody>\n",
       "</table>\n",
       "<p>168 rows × 4 columns</p>\n",
       "</div>"
      ],
      "text/plain": [
       "         consommation_kWh       CO2_kg  prix_EUR  valeurCible\n",
       "date                                                         \n",
       "2010-01              9847  1572.184358    984.70      10063.0\n",
       "2010-02             10063  1480.399633   1006.30       9904.0\n",
       "2010-03              9904  1394.176853    990.40       9930.0\n",
       "2010-04              9930  1500.440278    993.00      10094.0\n",
       "2010-05             10094  1620.859860   1009.40      10308.0\n",
       "...                   ...          ...       ...          ...\n",
       "2023-08             14885  2764.484602   3721.25      14996.0\n",
       "2023-09             14996  2636.440347   3749.00      14909.0\n",
       "2023-10             14909  2717.749686   3727.25      15084.0\n",
       "2023-11             15084  2707.667045   3771.00      14884.0\n",
       "2023-12             14884  2780.586966   3721.00      14884.0\n",
       "\n",
       "[168 rows x 4 columns]"
      ]
     },
     "execution_count": 14,
     "metadata": {},
     "output_type": "execute_result"
    }
   ],
   "source": [
    "copie['valeurCible'] = copie.shift(-1)['consommation_kWh']\n",
    "copie = copie.ffill()\n",
    "copie"
   ]
  },
  {
   "cell_type": "code",
   "execution_count": 15,
   "metadata": {},
   "outputs": [],
   "source": [
    "d_entrainement = copie[:160]\n",
    "d_validation = copie[160:]\n",
    "\n",
    "col_entrainement = copie.columns[:3]"
   ]
  },
  {
   "cell_type": "code",
   "execution_count": 16,
   "metadata": {},
   "outputs": [],
   "source": [
    "from sklearn.model_selection import GridSearchCV\n",
    "from sklearn.linear_model import LinearRegression, Ridge, Lasso\n",
    "\n",
    "mymodels = [LinearRegression(), \n",
    "          Ridge(), \n",
    "          Lasso(),]"
   ]
  },
  {
   "cell_type": "code",
   "execution_count": 17,
   "metadata": {},
   "outputs": [],
   "source": [
    "lr_params = {'fit_intercept': [True, False], 'copy_X': [True]}\n",
    "\n",
    "ridge_params = {'alpha':[1,0.1,0.01,0.001], 'max_iter':[1000], 'tol':[0.001]}\n",
    "\n",
    "lasso_params = {'alpha':[1,0.1,0.01,0.001], 'max_iter':[1000], 'tol':[0.001]}\n",
    "\n",
    "# l'algo s'arretera si la modifications des coefficients sra inferieur à 0.001\n",
    "\n",
    "liste_params = [lr_params, ridge_params, lasso_params]"
   ]
  },
  {
   "cell_type": "code",
   "execution_count": 18,
   "metadata": {},
   "outputs": [
    {
     "name": "stderr",
     "output_type": "stream",
     "text": [
      "c:\\Users\\PC de MEDUSA\\anaconda3\\lib\\site-packages\\sklearn\\linear_model\\_coordinate_descent.py:628: ConvergenceWarning: Objective did not converge. You might want to increase the number of iterations, check the scale of the features or consider increasing regularisation. Duality gap: 7.282e+05, tolerance: 1.610e+05\n",
      "  model = cd_fast.enet_coordinate_descent(\n",
      "c:\\Users\\PC de MEDUSA\\anaconda3\\lib\\site-packages\\sklearn\\linear_model\\_coordinate_descent.py:628: ConvergenceWarning: Objective did not converge. You might want to increase the number of iterations, check the scale of the features or consider increasing regularisation. Duality gap: 1.234e+06, tolerance: 3.050e+05\n",
      "  model = cd_fast.enet_coordinate_descent(\n",
      "c:\\Users\\PC de MEDUSA\\anaconda3\\lib\\site-packages\\sklearn\\linear_model\\_coordinate_descent.py:628: ConvergenceWarning: Objective did not converge. You might want to increase the number of iterations, check the scale of the features or consider increasing regularisation. Duality gap: 1.269e+06, tolerance: 1.610e+05\n",
      "  model = cd_fast.enet_coordinate_descent(\n",
      "c:\\Users\\PC de MEDUSA\\anaconda3\\lib\\site-packages\\sklearn\\linear_model\\_coordinate_descent.py:628: ConvergenceWarning: Objective did not converge. You might want to increase the number of iterations, check the scale of the features or consider increasing regularisation. Duality gap: 9.971e+05, tolerance: 2.679e+05\n",
      "  model = cd_fast.enet_coordinate_descent(\n",
      "c:\\Users\\PC de MEDUSA\\anaconda3\\lib\\site-packages\\sklearn\\linear_model\\_coordinate_descent.py:628: ConvergenceWarning: Objective did not converge. You might want to increase the number of iterations, check the scale of the features or consider increasing regularisation. Duality gap: 1.369e+06, tolerance: 3.050e+05\n",
      "  model = cd_fast.enet_coordinate_descent(\n",
      "c:\\Users\\PC de MEDUSA\\anaconda3\\lib\\site-packages\\sklearn\\linear_model\\_coordinate_descent.py:628: ConvergenceWarning: Objective did not converge. You might want to increase the number of iterations, check the scale of the features or consider increasing regularisation. Duality gap: 1.182e+06, tolerance: 2.688e+05\n",
      "  model = cd_fast.enet_coordinate_descent(\n",
      "c:\\Users\\PC de MEDUSA\\anaconda3\\lib\\site-packages\\sklearn\\linear_model\\_coordinate_descent.py:628: ConvergenceWarning: Objective did not converge. You might want to increase the number of iterations, check the scale of the features or consider increasing regularisation. Duality gap: 1.318e+06, tolerance: 1.610e+05\n",
      "  model = cd_fast.enet_coordinate_descent(\n",
      "c:\\Users\\PC de MEDUSA\\anaconda3\\lib\\site-packages\\sklearn\\linear_model\\_coordinate_descent.py:628: ConvergenceWarning: Objective did not converge. You might want to increase the number of iterations, check the scale of the features or consider increasing regularisation. Duality gap: 1.392e+06, tolerance: 2.679e+05\n",
      "  model = cd_fast.enet_coordinate_descent(\n",
      "c:\\Users\\PC de MEDUSA\\anaconda3\\lib\\site-packages\\sklearn\\linear_model\\_coordinate_descent.py:628: ConvergenceWarning: Objective did not converge. You might want to increase the number of iterations, check the scale of the features or consider increasing regularisation. Duality gap: 1.382e+06, tolerance: 3.050e+05\n",
      "  model = cd_fast.enet_coordinate_descent(\n",
      "c:\\Users\\PC de MEDUSA\\anaconda3\\lib\\site-packages\\sklearn\\linear_model\\_coordinate_descent.py:628: ConvergenceWarning: Objective did not converge. You might want to increase the number of iterations, check the scale of the features or consider increasing regularisation. Duality gap: 1.387e+06, tolerance: 2.688e+05\n",
      "  model = cd_fast.enet_coordinate_descent(\n",
      "c:\\Users\\PC de MEDUSA\\anaconda3\\lib\\site-packages\\sklearn\\linear_model\\_coordinate_descent.py:628: ConvergenceWarning: Objective did not converge. You might want to increase the number of iterations, check the scale of the features or consider increasing regularisation. Duality gap: 3.112e+05, tolerance: 1.544e+05\n",
      "  model = cd_fast.enet_coordinate_descent(\n"
     ]
    }
   ],
   "source": [
    "for i in range(3) :\n",
    "    grid = GridSearchCV(mymodels[i], liste_params[i])\n",
    "    grid.fit(d_entrainement[col_entrainement], d_entrainement['valeurCible'])"
   ]
  },
  {
   "cell_type": "code",
   "execution_count": 19,
   "metadata": {},
   "outputs": [
    {
     "data": {
      "text/plain": [
       "0.6940880857196607"
      ]
     },
     "execution_count": 19,
     "metadata": {},
     "output_type": "execute_result"
    }
   ],
   "source": [
    "grid.best_score_"
   ]
  },
  {
   "cell_type": "code",
   "execution_count": 20,
   "metadata": {},
   "outputs": [
    {
     "data": {
      "text/html": [
       "<style>#sk-container-id-1 {color: black;}#sk-container-id-1 pre{padding: 0;}#sk-container-id-1 div.sk-toggleable {background-color: white;}#sk-container-id-1 label.sk-toggleable__label {cursor: pointer;display: block;width: 100%;margin-bottom: 0;padding: 0.3em;box-sizing: border-box;text-align: center;}#sk-container-id-1 label.sk-toggleable__label-arrow:before {content: \"▸\";float: left;margin-right: 0.25em;color: #696969;}#sk-container-id-1 label.sk-toggleable__label-arrow:hover:before {color: black;}#sk-container-id-1 div.sk-estimator:hover label.sk-toggleable__label-arrow:before {color: black;}#sk-container-id-1 div.sk-toggleable__content {max-height: 0;max-width: 0;overflow: hidden;text-align: left;background-color: #f0f8ff;}#sk-container-id-1 div.sk-toggleable__content pre {margin: 0.2em;color: black;border-radius: 0.25em;background-color: #f0f8ff;}#sk-container-id-1 input.sk-toggleable__control:checked~div.sk-toggleable__content {max-height: 200px;max-width: 100%;overflow: auto;}#sk-container-id-1 input.sk-toggleable__control:checked~label.sk-toggleable__label-arrow:before {content: \"▾\";}#sk-container-id-1 div.sk-estimator input.sk-toggleable__control:checked~label.sk-toggleable__label {background-color: #d4ebff;}#sk-container-id-1 div.sk-label input.sk-toggleable__control:checked~label.sk-toggleable__label {background-color: #d4ebff;}#sk-container-id-1 input.sk-hidden--visually {border: 0;clip: rect(1px 1px 1px 1px);clip: rect(1px, 1px, 1px, 1px);height: 1px;margin: -1px;overflow: hidden;padding: 0;position: absolute;width: 1px;}#sk-container-id-1 div.sk-estimator {font-family: monospace;background-color: #f0f8ff;border: 1px dotted black;border-radius: 0.25em;box-sizing: border-box;margin-bottom: 0.5em;}#sk-container-id-1 div.sk-estimator:hover {background-color: #d4ebff;}#sk-container-id-1 div.sk-parallel-item::after {content: \"\";width: 100%;border-bottom: 1px solid gray;flex-grow: 1;}#sk-container-id-1 div.sk-label:hover label.sk-toggleable__label {background-color: #d4ebff;}#sk-container-id-1 div.sk-serial::before {content: \"\";position: absolute;border-left: 1px solid gray;box-sizing: border-box;top: 0;bottom: 0;left: 50%;z-index: 0;}#sk-container-id-1 div.sk-serial {display: flex;flex-direction: column;align-items: center;background-color: white;padding-right: 0.2em;padding-left: 0.2em;position: relative;}#sk-container-id-1 div.sk-item {position: relative;z-index: 1;}#sk-container-id-1 div.sk-parallel {display: flex;align-items: stretch;justify-content: center;background-color: white;position: relative;}#sk-container-id-1 div.sk-item::before, #sk-container-id-1 div.sk-parallel-item::before {content: \"\";position: absolute;border-left: 1px solid gray;box-sizing: border-box;top: 0;bottom: 0;left: 50%;z-index: -1;}#sk-container-id-1 div.sk-parallel-item {display: flex;flex-direction: column;z-index: 1;position: relative;background-color: white;}#sk-container-id-1 div.sk-parallel-item:first-child::after {align-self: flex-end;width: 50%;}#sk-container-id-1 div.sk-parallel-item:last-child::after {align-self: flex-start;width: 50%;}#sk-container-id-1 div.sk-parallel-item:only-child::after {width: 0;}#sk-container-id-1 div.sk-dashed-wrapped {border: 1px dashed gray;margin: 0 0.4em 0.5em 0.4em;box-sizing: border-box;padding-bottom: 0.4em;background-color: white;}#sk-container-id-1 div.sk-label label {font-family: monospace;font-weight: bold;display: inline-block;line-height: 1.2em;}#sk-container-id-1 div.sk-label-container {text-align: center;}#sk-container-id-1 div.sk-container {/* jupyter's `normalize.less` sets `[hidden] { display: none; }` but bootstrap.min.css set `[hidden] { display: none !important; }` so we also need the `!important` here to be able to override the default hidden behavior on the sphinx rendered scikit-learn.org. See: https://github.com/scikit-learn/scikit-learn/issues/21755 */display: inline-block !important;position: relative;}#sk-container-id-1 div.sk-text-repr-fallback {display: none;}</style><div id=\"sk-container-id-1\" class=\"sk-top-container\"><div class=\"sk-text-repr-fallback\"><pre>Lasso(alpha=1, tol=0.001)</pre><b>In a Jupyter environment, please rerun this cell to show the HTML representation or trust the notebook. <br />On GitHub, the HTML representation is unable to render, please try loading this page with nbviewer.org.</b></div><div class=\"sk-container\" hidden><div class=\"sk-item\"><div class=\"sk-estimator sk-toggleable\"><input class=\"sk-toggleable__control sk-hidden--visually\" id=\"sk-estimator-id-1\" type=\"checkbox\" checked><label for=\"sk-estimator-id-1\" class=\"sk-toggleable__label sk-toggleable__label-arrow\">Lasso</label><div class=\"sk-toggleable__content\"><pre>Lasso(alpha=1, tol=0.001)</pre></div></div></div></div></div>"
      ],
      "text/plain": [
       "Lasso(alpha=1, tol=0.001)"
      ]
     },
     "execution_count": 20,
     "metadata": {},
     "output_type": "execute_result"
    }
   ],
   "source": [
    "grid.best_estimator_"
   ]
  },
  {
   "cell_type": "code",
   "execution_count": 21,
   "metadata": {},
   "outputs": [
    {
     "data": {
      "text/plain": [
       "{'alpha': 1, 'max_iter': 1000, 'tol': 0.001}"
      ]
     },
     "execution_count": 21,
     "metadata": {},
     "output_type": "execute_result"
    }
   ],
   "source": [
    "grid.best_params_"
   ]
  },
  {
   "cell_type": "code",
   "execution_count": 22,
   "metadata": {},
   "outputs": [
    {
     "data": {
      "text/plain": [
       "date\n",
       "2023-05    14947.038006\n",
       "2023-06    14796.943983\n",
       "2023-07    14854.167375\n",
       "2023-08    14968.966863\n",
       "2023-09    15099.201471\n",
       "2023-10    15002.988293\n",
       "2023-11    15149.289488\n",
       "2023-12    14963.193035\n",
       "dtype: float64"
      ]
     },
     "execution_count": 22,
     "metadata": {},
     "output_type": "execute_result"
    }
   ],
   "source": [
    "mymodels[2].fit(d_entrainement[col_entrainement], d_entrainement['valeurCible'])\n",
    "preds = mymodels[2].predict(d_validation[col_entrainement])\n",
    "\n",
    "preds = pd.Series(preds, index=d_validation.index)\n",
    "preds"
   ]
  },
  {
   "cell_type": "code",
   "execution_count": 30,
   "metadata": {},
   "outputs": [
    {
     "data": {
      "text/html": [
       "<div>\n",
       "<style scoped>\n",
       "    .dataframe tbody tr th:only-of-type {\n",
       "        vertical-align: middle;\n",
       "    }\n",
       "\n",
       "    .dataframe tbody tr th {\n",
       "        vertical-align: top;\n",
       "    }\n",
       "\n",
       "    .dataframe thead th {\n",
       "        text-align: right;\n",
       "    }\n",
       "</style>\n",
       "<table border=\"1\" class=\"dataframe\">\n",
       "  <thead>\n",
       "    <tr style=\"text-align: right;\">\n",
       "      <th></th>\n",
       "      <th>actuel</th>\n",
       "      <th>prediction</th>\n",
       "      <th>diff</th>\n",
       "    </tr>\n",
       "    <tr>\n",
       "      <th>date</th>\n",
       "      <th></th>\n",
       "      <th></th>\n",
       "      <th></th>\n",
       "    </tr>\n",
       "  </thead>\n",
       "  <tbody>\n",
       "    <tr>\n",
       "      <th>2023-05</th>\n",
       "      <td>14633.0</td>\n",
       "      <td>14947.038006</td>\n",
       "      <td>314.038006</td>\n",
       "    </tr>\n",
       "    <tr>\n",
       "      <th>2023-06</th>\n",
       "      <td>14705.0</td>\n",
       "      <td>14796.943983</td>\n",
       "      <td>91.943983</td>\n",
       "    </tr>\n",
       "    <tr>\n",
       "      <th>2023-07</th>\n",
       "      <td>14885.0</td>\n",
       "      <td>14854.167375</td>\n",
       "      <td>30.832625</td>\n",
       "    </tr>\n",
       "    <tr>\n",
       "      <th>2023-08</th>\n",
       "      <td>14996.0</td>\n",
       "      <td>14968.966863</td>\n",
       "      <td>27.033137</td>\n",
       "    </tr>\n",
       "    <tr>\n",
       "      <th>2023-09</th>\n",
       "      <td>14909.0</td>\n",
       "      <td>15099.201471</td>\n",
       "      <td>190.201471</td>\n",
       "    </tr>\n",
       "    <tr>\n",
       "      <th>2023-10</th>\n",
       "      <td>15084.0</td>\n",
       "      <td>15002.988293</td>\n",
       "      <td>81.011707</td>\n",
       "    </tr>\n",
       "    <tr>\n",
       "      <th>2023-11</th>\n",
       "      <td>14884.0</td>\n",
       "      <td>15149.289488</td>\n",
       "      <td>265.289488</td>\n",
       "    </tr>\n",
       "    <tr>\n",
       "      <th>2023-12</th>\n",
       "      <td>14884.0</td>\n",
       "      <td>14963.193035</td>\n",
       "      <td>79.193035</td>\n",
       "    </tr>\n",
       "  </tbody>\n",
       "</table>\n",
       "</div>"
      ],
      "text/plain": [
       "          actuel    prediction        diff\n",
       "date                                      \n",
       "2023-05  14633.0  14947.038006  314.038006\n",
       "2023-06  14705.0  14796.943983   91.943983\n",
       "2023-07  14885.0  14854.167375   30.832625\n",
       "2023-08  14996.0  14968.966863   27.033137\n",
       "2023-09  14909.0  15099.201471  190.201471\n",
       "2023-10  15084.0  15002.988293   81.011707\n",
       "2023-11  14884.0  15149.289488  265.289488\n",
       "2023-12  14884.0  14963.193035   79.193035"
      ]
     },
     "execution_count": 30,
     "metadata": {},
     "output_type": "execute_result"
    }
   ],
   "source": [
    "resultats = pd.concat([d_validation['valeurCible'], preds], axis=1)\n",
    "resultats.columns = ['actuel', 'prediction']\n",
    "resultats['diff'] = (resultats['prediction'] - resultats['actuel']).abs()\n",
    "resultats"
   ]
  },
  {
   "cell_type": "code",
   "execution_count": 32,
   "metadata": {},
   "outputs": [
    {
     "data": {
      "image/png": "[encoded data removed]",
      "text/plain": [
       "<Figure size 1000x400 with 1 Axes>"
      ]
     },
     "metadata": {},
     "output_type": "display_data"
    }
   ],
   "source": [
    "plt.figure(figsize=(10,4))\n",
    "resultats['actuel'].plot(label='actuel')\n",
    "resultats['prediction'].plot(label='prediction')\n",
    "plt.ylabel(\"Consommation en kWh\")\n",
    "plt.legend()\n",
    "plt.show()"
   ]
  },
  {
   "cell_type": "code",
   "execution_count": 25,
   "metadata": {},
   "outputs": [],
   "source": [
    "resultats['prediction'].to_json('prediction.json')"
   ]
  },
  {
   "cell_type": "code",
   "execution_count": 26,
   "metadata": {},
   "outputs": [],
   "source": [
    "file_name = \"model.pkl\"\n",
    "\n",
    "with open(file_name, 'wb') as file:\n",
    "    pickle.dump(mymodels[2], file)"
   ]
  },
  {
   "cell_type": "code",
   "execution_count": null,
   "metadata": {},
   "outputs": [],
   "source": []
  }
 ],
 "metadata": {
  "kernelspec": {
   "display_name": "Python 3",
   "language": "python",
   "name": "python3"
  },
  "language_info": {
   "codemirror_mode": {
    "name": "ipython",
    "version": 3
   },
   "file_extension": ".py",
   "mimetype": "text/x-python",
   "name": "python",
   "nbconvert_exporter": "python",
   "pygments_lexer": "ipython3",
   "version": "3.9.17"
  }
 },
 "nbformat": 4,
 "nbformat_minor": 4
}
